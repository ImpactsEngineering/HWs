# Homework 7
## Intro to working in the Python programming language.

### Some Resources
* Codecademy tutorial: https://www.codecademy.com/learn/python
* Another tutorial: http://www.learnpython.org/
* Basic notebook features: https://github.com/ngs-docs/2016-mar-jupyter/blob/master/1-intro-script.md
* Some more intro: http://goo.gl/Qdn9ZH
* A more advanced intro with useful examples: http://goo.gl/Ade3XE
* To create a Jupyter notebook: https://studio.azureml.net/ You should be able to sign in with your Stout credentials.

**Note: I expect that you will also need to do some internet searching to figure out how to do things. This is part of the process.**

## Part a
* Read in the data_2.txt file from D2L. Note that files
